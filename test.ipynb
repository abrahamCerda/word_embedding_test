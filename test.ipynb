{
 "cells": [
  {
   "cell_type": "code",
   "execution_count": 17,
   "metadata": {},
   "outputs": [
    {
     "name": "stdout",
     "output_type": "stream",
     "text": [
      "365653\n",
      "255957\n",
      "109696\n",
      "365653\n",
      "255957\n",
      "109696\n"
     ]
    }
   ],
   "source": [
    "import numpy as np\n",
    "import pandas as pd\n",
    "from sklearn.model_selection import train_test_split\n",
    "\n",
    "#Obtenemos todos los datos\n",
    "all_data_frame = pd.read_csv('./resources/Consumer_Complaints.csv', low_memory=False)\n",
    "# Creamos un nuevo data frame que contiene solo los datos que nos interesan\n",
    "data_frame = all_data_frame[['Product', 'Consumer complaint narrative']]\n",
    "# Removemos las filas del dataframe que no tengan narrativa\n",
    "data_frame = data_frame[pd.notnull(data_frame['Consumer complaint narrative'])]\n",
    "#Renombramos las columnas del dataframe\n",
    "data_frame.columns = ['product', 'consumer_complaint_narrative']\n",
    "#Agregamos una nueva columna al dataframe, que es el id de categoria que tiene el producto\n",
    "data_frame['category_id'] = data_frame['product'].factorize()[0]\n",
    "\n",
    "# Obtenemos las entradas (como texto) del modelo\n",
    "text_inputs = data_frame.consumer_complaint_narrative\n",
    "\n",
    "#Obtenemos las etiquetas o clases (como números enteros) del modelo\n",
    "labels = data_frame.category_id\n",
    "\n",
    "# Usamos el tokenizer para luego cargar el modelo de word embbeding de GloVe\n",
    "\n",
    "tokenizer = \n",
    "\n",
    "#Generamos el conjunto de entrenamiento y de pruebas tanto como de las entradas como de las etiquetas\n",
    "x_train, x_test, y_train, y_test = train_test_split(inputs, labels, test_size=0.30, random_state=42)"
   ]
  }
 ],
 "metadata": {
  "kernelspec": {
   "display_name": "Python 3",
   "language": "python",
   "name": "python3"
  },
  "language_info": {
   "codemirror_mode": {
    "name": "ipython",
    "version": 3
   },
   "file_extension": ".py",
   "mimetype": "text/x-python",
   "name": "python",
   "nbconvert_exporter": "python",
   "pygments_lexer": "ipython3",
   "version": "3.6.8"
  }
 },
 "nbformat": 4,
 "nbformat_minor": 2
}
